{
 "cells": [
  {
   "cell_type": "code",
   "execution_count": 192,
   "id": "67d9e07b-c111-43fa-8abf-0cd691862e7f",
   "metadata": {
    "tags": []
   },
   "outputs": [],
   "source": [
    "import base64\n",
    "from IPython.display import Image, display, HTML\n",
    "import random\n",
    "import time\n",
    "from momaapi import MOMA, AnnVisualizer\n",
    "\n",
    "dir_moma = \"/Users/akashaj/Work/Datasets/MOMA-LRG\"\n",
    "moma = MOMA(dir_moma)\n",
    "\n",
    "visualizer = AnnVisualizer(moma)"
   ]
  },
  {
   "cell_type": "code",
   "execution_count": 193,
   "id": "c299ddef-d000-475d-b8ac-59f2f51e3bb5",
   "metadata": {
    "tags": []
   },
   "outputs": [
    {
     "name": "stdout",
     "output_type": "stream",
     "text": [
      "91 [0, 1, 2, 3, 4, 5, 6, 7, 8, 9, 10, 11, 12, 13, 14, 15, 16, 17, 18, 19, 20, 21, 22, 23, 24, 25, 26, 27, 28, 29, 30, 31, 32, 33, 34, 35, 36, 37, 38, 39, 40, 41, 42, 43, 44, 45, 46, 47, 48, 49, 50, 51, 52, 53, 54, 55, 56, 57, 58, 59, 60, 61, 62, 63, 64, 65, 66, 67, 68, 69, 70, 71, 72, 73, 74, 75, 76, 77, 78, 79, 80, 81, 82, 83, 84, 85, 86, 87, 88, 89, 90]\n"
     ]
    }
   ],
   "source": [
    "cids = moma.get_cids('sact', 0, 'all')\n",
    "print(len(cids), cids)\n",
    "# print(moma.get_cnames(cids_sact=cids))"
   ]
  },
  {
   "cell_type": "code",
   "execution_count": 184,
   "id": "fe9eb79d-4398-48f5-b52e-1f1a4a970ec1",
   "metadata": {},
   "outputs": [],
   "source": [
    "ids_sact = moma.get_ids_sact()"
   ]
  },
  {
   "cell_type": "code",
   "execution_count": 137,
   "id": "51d35451-3e9b-4b1f-92d8-070e8fee5aaf",
   "metadata": {
    "tags": []
   },
   "outputs": [
    {
     "name": "stdout",
     "output_type": "stream",
     "text": [
      "15842\n"
     ]
    }
   ],
   "source": [
    "print(len(ids_sact))"
   ]
  },
  {
   "cell_type": "code",
   "execution_count": 117,
   "id": "cd4f2f52-0806-46bf-a569-d0b2c3b7dfee",
   "metadata": {
    "tags": []
   },
   "outputs": [
    {
     "name": "stdout",
     "output_type": "stream",
     "text": [
      "SAct(id=02341, cname=the basketball player is dribbling or shooting a basket, time=[60.0, end=64.0), length=5)\n",
      "5\n",
      "5\n",
      "['02341_0000000000', '02341_0001000000', '02341_0002000000', '02341_0003000000', '02341_0003970633']\n",
      "[HOI(id=02341_0000000000, time=60.0, num_actors=3, num_objects=0, num_ias=2, num_tas=0, num_atts=4, num_rels=0, ids_actor=['A', 'B', 'C'], ids_object=[]), HOI(id=02341_0001000000, time=61.0, num_actors=4, num_objects=1, num_ias=6, num_tas=0, num_atts=6, num_rels=5, ids_actor=['A', 'B', 'C', 'D'], ids_object=['1']), HOI(id=02341_0002000000, time=62.0, num_actors=0, num_objects=0, num_ias=0, num_tas=0, num_atts=0, num_rels=0, ids_actor=[], ids_object=[]), HOI(id=02341_0003000000, time=63.0, num_actors=2, num_objects=1, num_ias=2, num_tas=0, num_atts=0, num_rels=4, ids_actor=['A', 'C'], ids_object=['2']), HOI(id=02341_0003970633, time=63.97063333333333, num_actors=4, num_objects=1, num_ias=0, num_tas=0, num_atts=4, num_rels=4, ids_actor=['A', 'B', 'C', 'D'], ids_object=['2'])]\n"
     ]
    }
   ],
   "source": [
    "id_sact = \"02341\"\n",
    "\n",
    "ann_sact = moma.get_anns_sact(ids_sact=[id_sact])[0]\n",
    "ids_hoi = moma.get_ids_hoi(ids_sact=[id_sact])\n",
    "anns_hoi = moma.get_anns_hoi(ids_hoi=ids_hoi)\n",
    "\n",
    "print(ann_sact)\n",
    "print(ann_sact.length)\n",
    "print(len(ids_hoi))\n",
    "print(ids_hoi)\n",
    "print(anns_hoi)\n"
   ]
  },
  {
   "cell_type": "code",
   "execution_count": 197,
   "id": "44a87185-d996-4c53-a73e-f2ad040b838a",
   "metadata": {
    "tags": []
   },
   "outputs": [],
   "source": [
    "# print(anns_hoi[1].__dir__())\n",
    "# print(anns_hoi[1].actors)\n",
    "# print(anns_hoi[1].objects)\n",
    "\n",
    "# for actor in anns_hoi[1].actors:\n",
    "#     print(actor.id)\n",
    "#     print(actor.kind)\n",
    "#     print(actor.cname)\n",
    "#     print(actor.cid)\n",
    "#     print(actor.bbox)\n",
    "    \n",
    "# for obj in anns_hoi[1].objects:\n",
    "#     print(obj.id)\n",
    "#     print(obj.kind)\n",
    "#     print(obj.cname)\n",
    "#     print(obj.cid)\n",
    "#     print(obj.bbox)"
   ]
  },
  {
   "cell_type": "markdown",
   "id": "cba1d13b-1492-4147-9eae-3afce8f4fe4e",
   "metadata": {
    "tags": []
   },
   "source": [
    "##### Count frames, total number of boxes (people + objects) for each SAct and print stats"
   ]
  },
  {
   "cell_type": "code",
   "execution_count": 195,
   "id": "da7539c2-ebe0-45b8-8aa1-e3628404dfc2",
   "metadata": {
    "tags": []
   },
   "outputs": [
    {
     "name": "stdout",
     "output_type": "stream",
     "text": [
      "Execution time: 0.7402558326721191 seconds\n",
      "num of frames range: 4 32\n",
      "boxes range:  0 1142\n"
     ]
    }
   ],
   "source": [
    "num_frames, num_bboxes, num_classes = [], [], []\n",
    "\n",
    "start_time = time.time()\n",
    "\n",
    "for id_sact in ids_sact:\n",
    "    ann_sact = moma.get_anns_sact(ids_sact=[id_sact])[0]\n",
    "    ids_hoi = moma.get_ids_hoi(ids_sact=[id_sact])\n",
    "    anns_hoi = moma.get_anns_hoi(ids_hoi=ids_hoi)\n",
    "    \n",
    "    num_frames.append(len(ids_hoi))\n",
    "    boxes, classes = 0, 0\n",
    "    for ann_hoi in anns_hoi:\n",
    "        boxes += len(ann_hoi.actors) + len(ann_hoi.objects)\n",
    "\n",
    "    num_bboxes.append(boxes)\n",
    "    # num_classes.append(len(ids_hoi))\n",
    "\n",
    "end_time = time.time()\n",
    "execution_time = end_time - start_time\n",
    "\n",
    "print(f\"Execution time: {execution_time} seconds\")\n",
    "\n",
    "print(\"num of frames range:\", min(num_frames), max(num_frames))\n",
    "print(\"boxes range: \", min(num_bboxes), max(num_bboxes))\n",
    "\n",
    "# num_frames.sort()\n",
    "# num_bboxes.sort()\n",
    "# print(len(num_frames),  num_bboxes[:300], num_bboxes[-500:])\n",
    "# n = [n for n in num_bboxes if n >= 10 and n <= 250]\n",
    "# print(len(n),  n[:300], n[-500:])\n"
   ]
  },
  {
   "cell_type": "code",
   "execution_count": 141,
   "id": "b7584f1d-8e72-48dc-b853-c1c653fdef0e",
   "metadata": {
    "tags": []
   },
   "outputs": [
    {
     "name": "stdout",
     "output_type": "stream",
     "text": [
      "161265\n"
     ]
    }
   ],
   "source": [
    "ids_hoi = moma.get_ids_hoi(ids_sact=ids_sact)\n",
    "anns_hoi = moma.get_anns_hoi(ids_hoi)\n",
    "print(len(anns_hoi))"
   ]
  },
  {
   "cell_type": "code",
   "execution_count": 97,
   "id": "3dc7fad8-bb6a-4bc8-90c7-d3b3eaa31da8",
   "metadata": {
    "tags": []
   },
   "outputs": [
    {
     "name": "stdout",
     "output_type": "stream",
     "text": [
      "HOI(id=07788_0000000000, time=140.0, num_actors=3, num_objects=4, num_ias=0, num_tas=0, num_atts=2, num_rels=10, ids_actor=['A', 'B', 'C'], ids_object=['1', '2', '3', '4'])\n",
      "SAct(id=07788, cname=the waiters are pouring or presenting drinks for the customers, time=[140.0, end=155.0), length=16)\n",
      "the waiters are pouring or presenting drinks for the customers\n",
      "140.0\n",
      "155.0\n",
      "16\n",
      "07788\n",
      "['A', 'B', 'C']\n",
      "['1', '2', '3', '4', '5']\n",
      "A\n",
      "customer\n",
      "B\n",
      "customer\n",
      "C\n",
      "waiter\n",
      "1\n",
      "dining table\n",
      "2\n",
      "chair\n",
      "3\n",
      "wine bottle\n",
      "4\n",
      "towel\n",
      "5\n",
      "wine glass\n"
     ]
    }
   ],
   "source": [
    "print(anns_hoi[0])\n",
    "print(ann_sact)\n",
    "print(ann_sact.__dir__())\n",
    "print(ann_sact.cname)\n",
    "print(ann_sact.start)\n",
    "print(ann_sact.end)\n",
    "print(ann_sact.length)\n",
    "\n",
    "\n",
    "print(ann_sact.id)\n",
    "print(ann_sact.ids_actor)\n",
    "print(ann_sact.ids_object)\n",
    "for aact_actor in ann_sact.aacts_actor:\n",
    "    print(aact_actor.id_entity)\n",
    "    print(aact_actor.cname_entity)\n",
    "\n",
    "for aact_object in ann_sact.aacts_object:\n",
    "    print(aact_object.id_entity)\n",
    "    print(aact_object.cname_entity)\n"
   ]
  },
  {
   "cell_type": "code",
   "execution_count": 73,
   "id": "5848c6cb-2201-4dfc-bd32-c0d2f60f3868",
   "metadata": {
    "tags": []
   },
   "outputs": [
    {
     "name": "stdout",
     "output_type": "stream",
     "text": [
      "['A', 'B', 'C']\n"
     ]
    }
   ],
   "source": []
  },
  {
   "cell_type": "code",
   "execution_count": null,
   "id": "97f0cbfd-b8c0-4156-ab12-aa0a344b1f42",
   "metadata": {},
   "outputs": [],
   "source": []
  },
  {
   "cell_type": "markdown",
   "id": "b389ecca-2a63-428f-8b0d-2a4ee1e4b0f2",
   "metadata": {
    "tags": []
   },
   "source": []
  },
  {
   "cell_type": "code",
   "execution_count": null,
   "id": "2a54cf02-8dd1-4850-a16e-c355b32d42e1",
   "metadata": {},
   "outputs": [],
   "source": []
  }
 ],
 "metadata": {
  "kernelspec": {
   "display_name": "moma",
   "language": "python",
   "name": "moma"
  },
  "language_info": {
   "codemirror_mode": {
    "name": "ipython",
    "version": 3
   },
   "file_extension": ".py",
   "mimetype": "text/x-python",
   "name": "python",
   "nbconvert_exporter": "python",
   "pygments_lexer": "ipython3",
   "version": "3.7.16"
  }
 },
 "nbformat": 4,
 "nbformat_minor": 5
}
