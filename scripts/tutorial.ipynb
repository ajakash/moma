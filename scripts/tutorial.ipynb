{
 "cells": [
  {
   "cell_type": "markdown",
   "metadata": {
    "pycharm": {
     "name": "#%% md\n"
    }
   },
   "source": [
    "# MOMA API Tutorial"
   ]
  },
  {
   "cell_type": "markdown",
   "metadata": {
    "pycharm": {
     "name": "#%% md\n"
    }
   },
   "source": [
    "Initialize the MOMA API."
   ]
  },
  {
   "cell_type": "code",
   "execution_count": 3,
   "metadata": {
    "pycharm": {
     "name": "#%%\n"
    }
   },
   "outputs": [
    {
     "name": "stderr",
     "output_type": "stream",
     "text": [
      "/Users/akashaj/anaconda3/envs/moma/lib/python3.7/site-packages/tqdm/auto.py:21: TqdmWarning: IProgress not found. Please update jupyter and ipywidgets. See https://ipywidgets.readthedocs.io/en/stable/user_install.html\n",
      "  from .autonotebook import tqdm as notebook_tqdm\n"
     ]
    }
   ],
   "source": [
    "from momaapi import MOMA\n",
    "\n",
    "dir_moma = \"/Users/akashaj/Work/Datasets/MOMA-LRG\"  # replace with your dataset directory\n",
    "moma = MOMA(dir_moma)"
   ]
  },
  {
   "cell_type": "markdown",
   "metadata": {
    "pycharm": {
     "name": "#%% md\n"
    }
   },
   "source": [
    "### Video Activity Classification"
   ]
  },
  {
   "cell_type": "markdown",
   "metadata": {
    "pycharm": {
     "name": "#%% md\n"
    }
   },
   "source": [
    "A unique ID is assigned to each activity instance. The first step is to obtain all the activity IDs associated with a specific split."
   ]
  },
  {
   "cell_type": "code",
   "execution_count": 4,
   "metadata": {
    "pycharm": {
     "name": "#%%\n"
    }
   },
   "outputs": [
    {
     "name": "stdout",
     "output_type": "stream",
     "text": [
      "ids_act: len=904, head=['-49z-lj8eYQ', '-50j97YPM6I', '-8ulhNOuce8']\n"
     ]
    }
   ],
   "source": [
    "ids_act = moma.get_ids_act(split=\"train\")\n",
    "print(f\"ids_act: len={len(ids_act)}, head={ids_act[:3]}\")"
   ]
  },
  {
   "cell_type": "markdown",
   "metadata": {
    "pycharm": {
     "name": "#%% md\n"
    }
   },
   "source": [
    "Using activity IDs, we can locate associated video files."
   ]
  },
  {
   "cell_type": "code",
   "execution_count": 5,
   "metadata": {
    "pycharm": {
     "name": "#%%\n"
    }
   },
   "outputs": [
    {
     "name": "stdout",
     "output_type": "stream",
     "text": [
      "paths_act: len=904, head=['/Users/akashaj/Work/Datasets/MOMA-LRG/activity/-49z-lj8eYQ.mp4', '/Users/akashaj/Work/Datasets/MOMA-LRG/activity/-50j97YPM6I.mp4', '/Users/akashaj/Work/Datasets/MOMA-LRG/activity/-8ulhNOuce8.mp4']\n"
     ]
    }
   ],
   "source": [
    "paths_act = moma.get_paths(ids_act=ids_act)\n",
    "print(f\"paths_act: len={len(paths_act)}, head={paths_act[:3]}\")"
   ]
  },
  {
   "cell_type": "markdown",
   "metadata": {
    "pycharm": {
     "name": "#%% md\n"
    }
   },
   "source": [
    "Using activity IDs, we can also retrieve their full annotations, including their class IDs."
   ]
  },
  {
   "cell_type": "code",
   "execution_count": 6,
   "metadata": {
    "pycharm": {
     "name": "#%%\n"
    }
   },
   "outputs": [
    {
     "name": "stdout",
     "output_type": "stream",
     "text": [
      "cids_act: len=904, head=[2, 16, 19]\n",
      "cnames_act: head=['basketball game', 'reception service', 'table tennis game']\n"
     ]
    }
   ],
   "source": [
    "anns_act = moma.get_anns_act(ids_act)\n",
    "cids_act = [ann_act.cid for ann_act in anns_act]\n",
    "cnames_act = [moma.taxonomy['act'][cid_act] for cid_act in cids_act]\n",
    "print(f\"cids_act: len={len(cids_act)}, head={cids_act[:3]}\")\n",
    "print(f\"cnames_act: head={cnames_act[:3]}\")"
   ]
  },
  {
   "cell_type": "markdown",
   "metadata": {
    "pycharm": {
     "name": "#%% md\n"
    }
   },
   "source": [
    "### Video Sub-activity Classification"
   ]
  },
  {
   "cell_type": "markdown",
   "metadata": {
    "pycharm": {
     "name": "#%% md\n"
    }
   },
   "source": [
    "The process of constructing a data module for video sub-activity classification is very similar to that of constructing a data module for video activity classification."
   ]
  },
  {
   "cell_type": "code",
   "execution_count": 7,
   "metadata": {
    "pycharm": {
     "name": "#%%\n"
    }
   },
   "outputs": [
    {
     "name": "stdout",
     "output_type": "stream",
     "text": [
      "ids_sact: head=['00010', '00011', '00012']\n",
      "paths_sact: head=['/Users/akashaj/Work/Datasets/MOMA-LRG/sub_activity/00010.mp4', '/Users/akashaj/Work/Datasets/MOMA-LRG/sub_activity/00011.mp4', '/Users/akashaj/Work/Datasets/MOMA-LRG/sub_activity/00012.mp4']\n",
      "cids_sact: head=[5, 5, 7]\n",
      "cnames_sact: head=['the adult is explaining to the child how to ride a bike', 'the adult is explaining to the child how to ride a bike', 'the adult is holding the child on the bike']\n"
     ]
    }
   ],
   "source": [
    "ids_sact = moma.get_ids_sact(split=\"train\")\n",
    "paths_sact = moma.get_paths(ids_sact=ids_sact)\n",
    "anns_sact = moma.get_anns_sact(ids_sact)\n",
    "cids_sact = [ann_sact.cid for ann_sact in anns_sact]\n",
    "cnames_sact = [moma.taxonomy['sact'][cid_sact] for cid_sact in cids_sact]\n",
    "print(f\"ids_sact: head={ids_sact[:3]}\")\n",
    "print(f\"paths_sact: head={paths_sact[:3]}\")\n",
    "print(f\"cids_sact: head={cids_sact[:3]}\")\n",
    "print(f\"cnames_sact: head={cnames_sact[:3]}\")"
   ]
  },
  {
   "cell_type": "markdown",
   "metadata": {
    "pycharm": {
     "name": "#%% md\n"
    }
   },
   "source": [
    "We can trace back the activity label of each sub-activity instance."
   ]
  },
  {
   "cell_type": "code",
   "execution_count": 8,
   "metadata": {
    "pycharm": {
     "name": "#%%\n"
    }
   },
   "outputs": [
    {
     "name": "stdout",
     "output_type": "stream",
     "text": [
      "cids_act: head=[2, 16, 19]\n",
      "cnames_act: head=['basketball game', 'reception service', 'table tennis game']\n"
     ]
    }
   ],
   "source": [
    "ids_act = moma.get_ids_act(ids_sact=ids_sact)\n",
    "anns_act = moma.get_anns_act(ids_act)\n",
    "cids_act = [ann_act.cid for ann_act in anns_act]\n",
    "cnames_act = [moma.taxonomy['act'][cid_act] for cid_act in cids_act]\n",
    "print(f\"cids_act: head={cids_act[:3]}\")\n",
    "print(f\"cnames_act: head={cnames_act[:3]}\")"
   ]
  },
  {
   "cell_type": "code",
   "execution_count": null,
   "metadata": {
    "pycharm": {
     "name": "#%%\n"
    }
   },
   "outputs": [],
   "source": []
  }
 ],
 "metadata": {
  "kernelspec": {
   "display_name": "moma",
   "language": "python",
   "name": "python3"
  },
  "language_info": {
   "codemirror_mode": {
    "name": "ipython",
    "version": 3
   },
   "file_extension": ".py",
   "mimetype": "text/x-python",
   "name": "python",
   "nbconvert_exporter": "python",
   "pygments_lexer": "ipython3",
   "version": "3.7.16"
  }
 },
 "nbformat": 4,
 "nbformat_minor": 4
}
